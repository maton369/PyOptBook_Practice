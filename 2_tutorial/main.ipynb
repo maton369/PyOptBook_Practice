{
 "cells": [
  {
   "cell_type": "code",
   "execution_count": null,
   "metadata": {},
   "outputs": [],
   "source": [
    "import pulp\n",
    "\n",
    "problem = pulp.LpProblem(\"SLE\", pulp.LpMaximize)\n",
    "\n",
    "x = pulp.LpVariable(\"x\", cat=\"Continuous\")\n",
    "y = pulp.LpVariable(\"y\", cat=\"Continuous\")\n",
    "\n",
    "problem += 120 * x + 150 * y == 1440\n",
    "problem += x + y == 10\n",
    "\n",
    "status = problem.solve()\n",
    "\n",
    "print(\"Status:\", pulp.LpStatus[status])\n",
    "print(\"x=\", x.value(), \"y=\", y.value())"
   ]
  }
 ],
 "metadata": {
  "language_info": {
   "name": "python"
  }
 },
 "nbformat": 4,
 "nbformat_minor": 2
}
